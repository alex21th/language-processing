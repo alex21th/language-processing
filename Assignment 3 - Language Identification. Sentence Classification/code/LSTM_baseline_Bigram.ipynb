{
 "cells": [
  {
   "cell_type": "code",
   "execution_count": 1,
   "metadata": {
    "_cell_guid": "b1076dfc-b9ad-4769-8c92-a6c4dae69d19",
    "_uuid": "8f2839f25d086af736a60e9eeb907d3b93b6e0e5"
   },
   "outputs": [
    {
     "name": "stdout",
     "output_type": "stream",
     "text": [
      "['Scripts.txt', 'x_test.txt', 'y_train.txt', 'labels.csv', 'x_train.txt']\n",
      "Example:\n",
      "LANG = est\n",
      "TEXT = Klement Gottwaldi surnukeha palsameeriti ning paigutati mausoleumi. Surnukeha oli aga liiga hilja ja oskamatult palsameeritud ning hakkas ilmutama lagunemise tundemärke. 1962. aastal viidi ta surnukeha mausoleumist ära ja kremeeriti. Zlíni linn kandis aastatel 1949–1989 nime Gottwaldov. Ukrainas Harkivi oblastis kandis Zmiivi linn aastatel 1976–1990 nime Gotvald.\n"
     ]
    }
   ],
   "source": [
    "# This Python 3 environment comes with many helpful analytics libraries installed\n",
    "import random\n",
    "import numpy as np # linear algebra\n",
    "import pandas as pd # data processing, CSV file I/O (e.g. pd.read_csv)\n",
    "import torch # Deep learning framework\n",
    "import torch.nn.functional as F\n",
    "import time\n",
    "\n",
    "# Input data files are available in the \"../input/\" directory.\n",
    "import os\n",
    "print(os.listdir(\"../input/wili3\"))\n",
    "\n",
    "#Init random seed to get reproducible results\n",
    "seed = 1111\n",
    "random.seed(seed)\n",
    "np.random.RandomState(seed)\n",
    "torch.manual_seed(seed)\n",
    "\n",
    "# Any results you write to the current directory are saved as output.\n",
    "x_train_full = open(\"../input/wili3/x_train.txt\").read().splitlines()\n",
    "y_train_full = open(\"../input/wili3/y_train.txt\").read().splitlines()\n",
    "print('Example:')\n",
    "print('LANG =', y_train_full[0])\n",
    "print('TEXT =', x_train_full[0])"
   ]
  },
  {
   "cell_type": "code",
   "execution_count": 2,
   "metadata": {
    "_cell_guid": "79c7e3d0-c299-4dcb-8224-4455121ee9b0",
    "_uuid": "d629ff2d2480ee46fbb7e2d37f6b5fab8052498a"
   },
   "outputs": [],
   "source": [
    "class Dictionary(object):\n",
    "    def __init__(self):\n",
    "        self.token2idx = {}\n",
    "        self.idx2token = []\n",
    "\n",
    "    def add_token(self, token):\n",
    "        if token not in self.token2idx:\n",
    "            self.idx2token.append(token)\n",
    "            self.token2idx[token] = len(self.idx2token) - 1\n",
    "        return self.token2idx[token]\n",
    "\n",
    "    def __len__(self):\n",
    "        return len(self.idx2token)"
   ]
  },
  {
   "cell_type": "markdown",
   "metadata": {},
   "source": [
    "The **Dictionary** class is used to map tokens (characters, words, subwords) into consecutive integer indexes.  \n",
    "The index **0** is reserved for padding sequences up to a fixed lenght, and the index **1** for any 'unknown' character"
   ]
  },
  {
   "cell_type": "code",
   "execution_count": 3,
   "metadata": {},
   "outputs": [
    {
     "name": "stdout",
     "output_type": "stream",
     "text": [
      "Vocabulary: 317440 UTF pairs\n",
      "Labels: 235 languages\n"
     ]
    }
   ],
   "source": [
    "#char_vocab = Dictionary()\n",
    "pair_vocab = Dictionary()\n",
    "pad_token = '<pad>' # reserve index 0 for padding\n",
    "unk_token = '<unk>' # reserve index 1 for unknown token\n",
    "#pad_index = char_vocab.add_token(pad_token)\n",
    "#unk_index = char_vocab.add_token(unk_token)\n",
    "pad_index = pair_vocab.add_token(pad_token)\n",
    "unk_index = pair_vocab.add_token(unk_token)\n",
    "\n",
    "# join all the training sentences in a single string\n",
    "# and obtain the list of different characters with set\n",
    "\n",
    "chars = list(''.join(x_train_full))\n",
    "#chars = set(''.join(x_train_full))\n",
    "#for char in sorted(chars):\n",
    "#    char_vocab.add_token(char)\n",
    "#print(\"Vocabulary:\", len(char_vocab), \"UTF characters\")\n",
    "i=0\n",
    "k=0\n",
    "for char in chars:\n",
    "    if k==0:\n",
    "        c1 = char\n",
    "        #print(c1)\n",
    "        k=1\n",
    "        if i>0:\n",
    "            pair_vocab.add_token(c2+c1)\n",
    "    else:\n",
    "        c2=char\n",
    "        #print(c2)\n",
    "        pair_vocab.add_token(c1+c2)\n",
    "        k=0\n",
    "    i=i+1\n",
    "    #input()\n",
    "    \n",
    "print(\"Vocabulary:\", len(pair_vocab), \"UTF pairs\")\n",
    "\n",
    "\n",
    "lang_vocab = Dictionary()\n",
    "# use python set to obtain the list of languages without repetitions\n",
    "languages = set(y_train_full)\n",
    "for lang in sorted(languages):\n",
    "    lang_vocab.add_token(lang)\n",
    "print(\"Labels:\", len(lang_vocab), \"languages\")"
   ]
  },
  {
   "cell_type": "code",
   "execution_count": 4,
   "metadata": {},
   "outputs": [
    {
     "name": "stdout",
     "output_type": "stream",
     "text": [
      "a -> 911\n",
      "cat -> 28\n",
      "est Klement Go\n"
     ]
    }
   ],
   "source": [
    "#From token or label to index\n",
    "print('a ->', pair_vocab.token2idx['An'])\n",
    "#print('a ->', char_vocab.token2idx['a'])\n",
    "print('cat ->', lang_vocab.token2idx['cat'])\n",
    "print(y_train_full[0], x_train_full[0][:10])\n",
    "x_train_idx = []\n",
    "t = 0\n",
    "for line in x_train_full:\n",
    "    t=t+1\n",
    "    i = 0\n",
    "    k = 0\n",
    "    tmp = []\n",
    "    for c in line:\n",
    "        if k==0:\n",
    "            c1 = c\n",
    "            k=1\n",
    "            if i>0:\n",
    "                tmp.append(pair_vocab.token2idx[c2+c1])\n",
    "            i=i+1\n",
    "        else:\n",
    "            c2 = c\n",
    "            tmp.append(pair_vocab.token2idx[c1+c2])\n",
    "            k=0\n",
    "    x_train_idx.append(np.array(tmp))\n",
    "\n",
    "#x_train_idx = [np.array([char_vocab.token2idx[c] for c in line]) for line in x_train_full]\n",
    "y_train_idx = np.array([lang_vocab.token2idx[lang] for lang in y_train_full])\n",
    "#print(y_train_idx[0], x_train_idx[0][:10])"
   ]
  },
  {
   "cell_type": "markdown",
   "metadata": {},
   "source": [
    "Radomly select 15% of the database for validation  \n",
    "Create lists of (input, target) tuples for training and validation"
   ]
  },
  {
   "cell_type": "code",
   "execution_count": 5,
   "metadata": {},
   "outputs": [
    {
     "name": "stdout",
     "output_type": "stream",
     "text": [
      "hey\n"
     ]
    }
   ],
   "source": [
    "if '地路' in pair_vocab.token2idx:\n",
    "    print('hola')\n",
    "else:\n",
    "    print('hey')"
   ]
  },
  {
   "cell_type": "code",
   "execution_count": 6,
   "metadata": {},
   "outputs": [
    {
     "name": "stdout",
     "output_type": "stream",
     "text": [
      "99875 training samples\n",
      "17625 validation samples\n"
     ]
    }
   ],
   "source": [
    "from sklearn.model_selection import train_test_split\n",
    "x_train, x_val, y_train, y_val = train_test_split(x_train_idx, y_train_idx, test_size=0.15, random_state=seed)\n",
    "train_data = [(x, y) for x, y in zip(x_train, y_train)]\n",
    "val_data = [(x, y) for x, y in zip(x_val, y_val)]\n",
    "print(len(train_data), \"training samples\")\n",
    "print(len(val_data), \"validation samples\")"
   ]
  },
  {
   "cell_type": "code",
   "execution_count": 7,
   "metadata": {},
   "outputs": [],
   "source": [
    "def batch_generator(data, batch_size, token_size):\n",
    "    \"\"\"Yield elements from data in chunks with a maximum of batch_size sequences and token_size tokens.\"\"\"\n",
    "    minibatch, sequences_so_far, tokens_so_far = [], 0, 0\n",
    "    for ex in data:\n",
    "        minibatch.append(ex)\n",
    "        seq_len = len(ex[0])\n",
    "        if seq_len > token_size:\n",
    "            ex = (ex[0][:token_size], ex[1])\n",
    "            seq_len = token_size\n",
    "        sequences_so_far += 1\n",
    "        tokens_so_far += seq_len\n",
    "        if sequences_so_far == batch_size or tokens_so_far == token_size:\n",
    "            yield minibatch\n",
    "            minibatch, sequences_so_far, tokens_so_far = [], 0, 0\n",
    "        elif sequences_so_far > batch_size or tokens_so_far > token_size:\n",
    "            yield minibatch[:-1]\n",
    "            minibatch, sequences_so_far, tokens_so_far = minibatch[-1:], 1, len(minibatch[-1][0])\n",
    "    if minibatch:\n",
    "        yield minibatch"
   ]
  },
  {
   "cell_type": "code",
   "execution_count": 8,
   "metadata": {},
   "outputs": [],
   "source": [
    "def pool_generator(data, batch_size, token_size, shuffle=False):\n",
    "    \"\"\"Sort within buckets, then batch, then shuffle batches.\n",
    "    Partitions data into chunks of size 100*token_size, sorts examples within\n",
    "    each chunk, then batch these examples and shuffle the batches.\n",
    "    \"\"\"\n",
    "    for p in batch_generator(data, batch_size * 100, token_size * 100):\n",
    "        p_batch = batch_generator(sorted(p, key=lambda t: len(t[0]), reverse=True), batch_size, token_size)\n",
    "        p_list = list(p_batch)\n",
    "        if shuffle:\n",
    "            for b in random.sample(p_list, len(p_list)):\n",
    "                yield b\n",
    "        else:\n",
    "            for b in p_list:\n",
    "                yield b"
   ]
  },
  {
   "cell_type": "markdown",
   "metadata": {},
   "source": [
    "**DNN Model**  \n",
    "Includes Python comments with the dimension of the input  matrix:  \n",
    "T = Max number of tokens in a sequence  \n",
    "B = Number of sequences (batch size)  \n",
    "E = Embedding dim  \n",
    "H = Hidden size  \n",
    "O = Output size (number of languages)"
   ]
  },
  {
   "cell_type": "code",
   "execution_count": 9,
   "metadata": {},
   "outputs": [],
   "source": [
    "class CharRNNClassifier(torch.nn.Module):\n",
    "\n",
    "    def __init__(self, input_size, embedding_size, hidden_size, output_size, model=\"lstm\", num_layers=1, bidirectional=False, pad_idx=0):\n",
    "        super().__init__()\n",
    "        self.model = model.lower()\n",
    "        self.hidden_size = hidden_size\n",
    "        self.embed = torch.nn.Embedding(input_size, embedding_size, padding_idx=pad_idx)\n",
    "        if self.model == \"gru\":\n",
    "            self.rnn = torch.nn.GRU(embedding_size, hidden_size, num_layers, bidirectional=bidirectional)\n",
    "        elif self.model == \"lstm\":\n",
    "            self.rnn = torch.nn.LSTM(embedding_size, hidden_size, num_layers, bidirectional=bidirectional)\n",
    "        self.h2o = torch.nn.Linear(hidden_size, output_size)\n",
    "        self.drop =  torch.nn.Dropout(p=0.5)\n",
    "        \n",
    "    def forward(self, input, input_lengths):\n",
    "        # T x B\n",
    "        encoded = self.embed(input)\n",
    "        # T x B x E\n",
    "        packed = torch.nn.utils.rnn.pack_padded_sequence(encoded, input_lengths)\n",
    "        # Packed T x B x E\n",
    "        output, _ = self.rnn(packed)\n",
    "        # Packed T x B x H\n",
    "        # Important: you may need to replace '-inf' with the default zero padding for other pooling layers\n",
    "        padded_m, _ = torch.nn.utils.rnn.pad_packed_sequence(output, padding_value=float('-inf'))\n",
    "        # T x B x H\n",
    "        output_m, _ = padded_m.max(dim=0)\n",
    "        \n",
    "        padded_a, _ = torch.nn.utils.rnn.pad_packed_sequence(output, padding_value=0)\n",
    "        output_a = padded_a.mean(dim=0)\n",
    "        \n",
    "        output = (output_m + output_a)\n",
    "        # B x H\n",
    "        output = self.drop(self.h2o(output))\n",
    "        # B x O\n",
    "        return output"
   ]
  },
  {
   "cell_type": "code",
   "execution_count": 10,
   "metadata": {},
   "outputs": [],
   "source": [
    "if not torch.cuda.is_available():\n",
    "    print(\"WARNING: CUDA is not available. Select 'GPU On' on kernel settings\")\n",
    "device = torch.device(\"cuda\")\n",
    "torch.cuda.manual_seed(seed)"
   ]
  },
  {
   "cell_type": "markdown",
   "metadata": {},
   "source": [
    "The **nn.CrossEntropyLoss()** criterion combines **nn.LogSoftmax()** and **nn.NLLLoss()** in one single class.  \n",
    "It is useful when training a classification problem."
   ]
  },
  {
   "cell_type": "code",
   "execution_count": 11,
   "metadata": {},
   "outputs": [],
   "source": [
    "criterion = torch.nn.CrossEntropyLoss(reduction='sum')"
   ]
  },
  {
   "cell_type": "code",
   "execution_count": 12,
   "metadata": {},
   "outputs": [],
   "source": [
    "def train(model, optimizer, data, batch_size, token_size, log=False):\n",
    "    model.train()\n",
    "    total_loss = 0\n",
    "    ncorrect = 0\n",
    "    nsentences = 0\n",
    "    ntokens = 0\n",
    "    niterations = 0\n",
    "    for batch in pool_generator(data, batch_size, token_size, shuffle=True):\n",
    "        # Get input and target sequences from batch\n",
    "        X = [torch.from_numpy(d[0]) for d in batch]\n",
    "        X_lengths = [x.numel() for x in X]\n",
    "        ntokens += sum(X_lengths)\n",
    "        X_lengths = torch.tensor(X_lengths, dtype=torch.long, device=device)\n",
    "        y = torch.tensor([d[1] for d in batch], dtype=torch.long, device=device)\n",
    "        # Pad the input sequences to create a matrix\n",
    "        X = torch.nn.utils.rnn.pad_sequence(X).to(device)\n",
    "        model.zero_grad()\n",
    "        output = model(X, X_lengths)\n",
    "        loss = criterion(output, y)\n",
    "        loss.backward()\n",
    "        optimizer.step()\n",
    "        # Training statistics\n",
    "        total_loss += loss.item()\n",
    "        ncorrect += (torch.max(output, 1)[1] == y).sum().item()\n",
    "        nsentences += y.numel()\n",
    "        niterations += 1\n",
    "    \n",
    "    total_loss = total_loss / nsentences\n",
    "    accuracy = 100 * ncorrect / nsentences\n",
    "    if log:\n",
    "        print(f'Train: wpb={ntokens//niterations}, bsz={nsentences//niterations}, num_updates={niterations}')\n",
    "    return accuracy"
   ]
  },
  {
   "cell_type": "code",
   "execution_count": 13,
   "metadata": {},
   "outputs": [],
   "source": [
    "def validate(model, data, batch_size, token_size):\n",
    "    model.eval()\n",
    "    # calculate accuracy on validation set\n",
    "    ncorrect = 0\n",
    "    nsentences = 0\n",
    "    with torch.no_grad():\n",
    "        for batch in pool_generator(data, batch_size, token_size):\n",
    "            # Get input and target sequences from batch\n",
    "            X = [torch.from_numpy(d[0]) for d in batch]\n",
    "            X_lengths = torch.tensor([x.numel() for x in X], dtype=torch.long, device=device)\n",
    "            y = torch.tensor([d[1] for d in batch], dtype=torch.long, device=device)\n",
    "            # Pad the input sequences to create a matrix\n",
    "            X = torch.nn.utils.rnn.pad_sequence(X).to(device)\n",
    "            answer = model(X, X_lengths)\n",
    "            ncorrect += (torch.max(answer, 1)[1] == y).sum().item()\n",
    "            nsentences += y.numel()\n",
    "        dev_acc = 100 * ncorrect / nsentences\n",
    "    return dev_acc"
   ]
  },
  {
   "cell_type": "code",
   "execution_count": 14,
   "metadata": {},
   "outputs": [],
   "source": [
    "hidden_size = 512\n",
    "embedding_size = 64\n",
    "bidirectional = False\n",
    "#ntokens = len(char_vocab)\n",
    "ntokens = len(pair_vocab)\n",
    "nlabels = len(lang_vocab)"
   ]
  },
  {
   "cell_type": "markdown",
   "metadata": {},
   "source": [
    "Model for cross-validation"
   ]
  },
  {
   "cell_type": "code",
   "execution_count": 15,
   "metadata": {},
   "outputs": [],
   "source": [
    "def get_model():\n",
    "    model = CharRNNClassifier(ntokens, embedding_size, hidden_size, nlabels, model = 'gru', bidirectional=bidirectional, pad_idx=pad_index).to(device)\n",
    "    optimizer = torch.optim.Adam(model.parameters())\n",
    "    return model, optimizer"
   ]
  },
  {
   "cell_type": "code",
   "execution_count": 16,
   "metadata": {},
   "outputs": [
    {
     "name": "stdout",
     "output_type": "stream",
     "text": [
      "Training cross-validation model for 25 epochs\n",
      "Train: wpb=90289, bsz=245, num_updates=407\n",
      "| epoch 001 | train accuracy=28.9% (103s)\n",
      "| epoch 001 | valid accuracy=82.7%\n",
      "| epoch 002 | train accuracy=45.9% (210s)\n",
      "| epoch 002 | valid accuracy=89.8%\n",
      "| epoch 003 | train accuracy=47.4% (316s)\n",
      "| epoch 003 | valid accuracy=91.9%\n",
      "| epoch 004 | train accuracy=47.6% (423s)\n",
      "| epoch 004 | valid accuracy=92.2%\n",
      "| epoch 005 | train accuracy=48.4% (530s)\n",
      "| epoch 005 | valid accuracy=92.8%\n",
      "| epoch 006 | train accuracy=49.0% (637s)\n",
      "| epoch 006 | valid accuracy=93.4%\n",
      "| epoch 007 | train accuracy=49.3% (744s)\n",
      "| epoch 007 | valid accuracy=93.3%\n",
      "| epoch 008 | train accuracy=49.0% (852s)\n",
      "| epoch 008 | valid accuracy=93.4%\n",
      "| epoch 009 | train accuracy=49.5% (960s)\n",
      "| epoch 009 | valid accuracy=93.7%\n",
      "| epoch 010 | train accuracy=49.6% (1068s)\n",
      "| epoch 010 | valid accuracy=93.6%\n",
      "| epoch 011 | train accuracy=49.9% (1176s)\n",
      "| epoch 011 | valid accuracy=93.8%\n",
      "| epoch 012 | train accuracy=49.7% (1284s)\n",
      "| epoch 012 | valid accuracy=93.8%\n",
      "| epoch 013 | train accuracy=49.9% (1392s)\n",
      "| epoch 013 | valid accuracy=94.1%\n",
      "| epoch 014 | train accuracy=50.4% (1500s)\n",
      "| epoch 014 | valid accuracy=94.0%\n",
      "| epoch 015 | train accuracy=50.4% (1608s)\n",
      "| epoch 015 | valid accuracy=94.3%\n",
      "| epoch 016 | train accuracy=50.3% (1716s)\n",
      "| epoch 016 | valid accuracy=93.9%\n",
      "| epoch 017 | train accuracy=50.5% (1824s)\n",
      "| epoch 017 | valid accuracy=94.1%\n",
      "| epoch 018 | train accuracy=50.1% (1932s)\n",
      "| epoch 018 | valid accuracy=93.8%\n",
      "| epoch 019 | train accuracy=50.5% (2040s)\n",
      "| epoch 019 | valid accuracy=94.0%\n",
      "| epoch 020 | train accuracy=50.5% (2148s)\n",
      "| epoch 020 | valid accuracy=93.9%\n",
      "| epoch 021 | train accuracy=50.4% (2255s)\n",
      "| epoch 021 | valid accuracy=94.2%\n",
      "| epoch 022 | train accuracy=50.2% (2364s)\n",
      "| epoch 022 | valid accuracy=93.9%\n",
      "| epoch 023 | train accuracy=50.7% (2472s)\n",
      "| epoch 023 | valid accuracy=94.2%\n",
      "| epoch 024 | train accuracy=50.2% (2580s)\n",
      "| epoch 024 | valid accuracy=94.1%\n",
      "| epoch 025 | train accuracy=50.3% (2688s)\n",
      "| epoch 025 | valid accuracy=94.0%\n"
     ]
    }
   ],
   "source": [
    "batch_size, token_size = 256, 200000\n",
    "epochs = 25\n",
    "train_accuracy = []\n",
    "valid_accuracy = []\n",
    "model, optimizer = get_model()\n",
    "print(f'Training cross-validation model for {epochs} epochs')\n",
    "t0 = time.time()\n",
    "for epoch in range(1, epochs + 1):\n",
    "    acc = train(model, optimizer, train_data, batch_size, token_size, log=epoch==1)\n",
    "    train_accuracy.append(acc)\n",
    "    print(f'| epoch {epoch:03d} | train accuracy={acc:.1f}% ({time.time() - t0:.0f}s)')\n",
    "    acc = validate(model, val_data, batch_size, token_size)\n",
    "    valid_accuracy.append(acc)\n",
    "    print(f'| epoch {epoch:03d} | valid accuracy={acc:.1f}%')"
   ]
  },
  {
   "cell_type": "code",
   "execution_count": 17,
   "metadata": {},
   "outputs": [
    {
     "name": "stdout",
     "output_type": "stream",
     "text": [
      "CharRNNClassifier(\n",
      "  (embed): Embedding(317440, 64, padding_idx=0)\n",
      "  (rnn): GRU(64, 512)\n",
      "  (h2o): Linear(in_features=512, out_features=235, bias=True)\n",
      "  (drop): Dropout(p=0.5, inplace=False)\n",
      ")\n",
      "embed.weight         20316160 [317440, 64]\n",
      "rnn.weight_ih_l0     98304 [1536, 64]\n",
      "rnn.weight_hh_l0     786432 [1536, 512]\n",
      "rnn.bias_ih_l0       1536 [1536]\n",
      "rnn.bias_hh_l0       1536 [1536]\n",
      "h2o.weight           120320 [235, 512]\n",
      "h2o.bias             235 [235]\n",
      "TOTAL                21324523\n"
     ]
    }
   ],
   "source": [
    "print(model)\n",
    "for name, param in model.named_parameters():\n",
    "    print(f'{name:20} {param.numel()} {list(param.shape)}')\n",
    "print(f'TOTAL                {sum(p.numel() for p in model.parameters())}')"
   ]
  },
  {
   "cell_type": "code",
   "execution_count": 18,
   "metadata": {},
   "outputs": [
    {
     "data": {
      "image/png": "[encoded data removed]",
      "text/plain": [
       "<Figure size 432x288 with 1 Axes>"
      ]
     },
     "metadata": {
      "needs_background": "light"
     },
     "output_type": "display_data"
    }
   ],
   "source": [
    "import matplotlib.pyplot as plt\n",
    "plt.plot(range(1, len(train_accuracy)+1), train_accuracy)\n",
    "plt.plot(range(1, len(valid_accuracy)+1), valid_accuracy)\n",
    "plt.xlabel('epoch')\n",
    "plt.ylabel('Accuracy');"
   ]
  },
  {
   "cell_type": "markdown",
   "metadata": {},
   "source": [
    "**Final model**  \n",
    "Finally, we create a model using all the training data and we generate the submission with the predicted test labels"
   ]
  },
  {
   "cell_type": "code",
   "execution_count": 19,
   "metadata": {},
   "outputs": [
    {
     "name": "stdout",
     "output_type": "stream",
     "text": [
      "Training final model for 25 epochs\n",
      "Model Parameters: 21324523\n",
      "Train: wpb=90260, bsz=245, num_updates=479\n",
      "| epoch 001 | train accuracy=31.661 (124s)\n",
      "| epoch 002 | train accuracy=46.337 (248s)\n",
      "| epoch 003 | train accuracy=47.466 (372s)\n",
      "| epoch 004 | train accuracy=48.041 (496s)\n",
      "| epoch 005 | train accuracy=48.545 (619s)\n",
      "| epoch 006 | train accuracy=49.081 (743s)\n",
      "| epoch 007 | train accuracy=49.148 (867s)\n",
      "| epoch 008 | train accuracy=49.218 (991s)\n",
      "| epoch 009 | train accuracy=49.786 (1115s)\n",
      "| epoch 010 | train accuracy=49.888 (1239s)\n",
      "| epoch 011 | train accuracy=50.177 (1363s)\n",
      "| epoch 012 | train accuracy=50.380 (1486s)\n",
      "| epoch 013 | train accuracy=50.196 (1610s)\n",
      "| epoch 014 | train accuracy=50.134 (1734s)\n",
      "| epoch 015 | train accuracy=50.532 (1858s)\n",
      "| epoch 016 | train accuracy=50.406 (1982s)\n",
      "| epoch 017 | train accuracy=50.240 (2106s)\n",
      "| epoch 018 | train accuracy=50.283 (2229s)\n",
      "| epoch 019 | train accuracy=50.354 (2352s)\n",
      "| epoch 020 | train accuracy=50.309 (2476s)\n",
      "| epoch 021 | train accuracy=50.163 (2599s)\n",
      "| epoch 022 | train accuracy=50.609 (2723s)\n",
      "| epoch 023 | train accuracy=50.537 (2847s)\n",
      "| epoch 024 | train accuracy=50.227 (2970s)\n",
      "| epoch 025 | train accuracy=50.351 (3094s)\n"
     ]
    }
   ],
   "source": [
    "print(f'Training final model for {epochs} epochs')\n",
    "model, optimizer = get_model()\n",
    "def count_parameters(model): return sum(p.numel() for p in model.parameters() if p.requires_grad)\n",
    "print('Model Parameters: '+ str(count_parameters(model)))\n",
    "t0 = time.time()\n",
    "for epoch in range(1, epochs + 1):\n",
    "    acc = train(model, optimizer, train_data + val_data, batch_size, token_size, log=epoch==1)\n",
    "    print(f'| epoch {epoch:03d} | train accuracy={acc:.3f} ({time.time() - t0:.0f}s)')"
   ]
  },
  {
   "cell_type": "code",
   "execution_count": 20,
   "metadata": {},
   "outputs": [],
   "source": [
    "def test(model, data, batch_size, token_size):\n",
    "    model.eval()\n",
    "    sindex = []\n",
    "    labels = []\n",
    "    with torch.no_grad():\n",
    "        for batch in pool_generator(data, batch_size, token_size):\n",
    "            # Get input sequences from batch\n",
    "            X = [torch.from_numpy(d[0]) for d in batch]\n",
    "            X_lengths = torch.tensor([x.numel() for x in X], dtype=torch.long, device=device)\n",
    "            # Pad the input sequences to create a matrix\n",
    "            X = torch.nn.utils.rnn.pad_sequence(X).to(device)\n",
    "            answer = model(X, X_lengths)\n",
    "            label = torch.max(answer, 1)[1].cpu().numpy()\n",
    "            # Save labels and sentences index\n",
    "            labels.append(label)\n",
    "            sindex += [d[1] for d in batch]\n",
    "    return np.array(sindex), np.concatenate(labels)"
   ]
  },
  {
   "cell_type": "markdown",
   "metadata": {},
   "source": [
    "In the test database we replace the label (language) with a sentence index.  "
   ]
  },
  {
   "cell_type": "code",
   "execution_count": 21,
   "metadata": {},
   "outputs": [
    {
     "name": "stdout",
     "output_type": "stream",
     "text": [
      "l.\n"
     ]
    }
   ],
   "source": [
    "print(c2+c1)\n",
    "tmp.append(pair_vocab.token2idx[c1+c2])"
   ]
  },
  {
   "cell_type": "code",
   "execution_count": 22,
   "metadata": {},
   "outputs": [],
   "source": [
    "x_test_txt = open(\"../input/wili3/x_test.txt\").read().splitlines()\n",
    "#x_test_idx = [np.array([char_vocab.token2idx[c] if c in char_vocab.token2idx else unk_index for c in line]) for line in x_test_txt]\n",
    "x_test_idx = []\n",
    "\n",
    "\n",
    "t = 0\n",
    "for line in x_test_txt:\n",
    "    t=t+1\n",
    "    i = 0\n",
    "    k = 0\n",
    "    tmp = []\n",
    "    for c in line:\n",
    "        if k==0:\n",
    "            c1 = c\n",
    "            k=1\n",
    "            if i>0:\n",
    "                if c2+c1 in pair_vocab.token2idx:\n",
    "                    tmp.append(pair_vocab.token2idx[c2+c1])\n",
    "                else:\n",
    "                    tmp.append(pair_vocab.add_token(unk_token))\n",
    "            i=i+1\n",
    "        else:\n",
    "            c2 = c\n",
    "            if c1+c2 in pair_vocab.token2idx:\n",
    "                tmp.append(pair_vocab.token2idx[c1+c2])\n",
    "            else:\n",
    "                tmp.append(pair_vocab.add_token(unk_token))\n",
    "            k=0\n",
    "    x_test_idx.append(np.array(tmp))\n",
    "test_data = [(x, idx) for idx, x in enumerate(x_test_idx)]"
   ]
  },
  {
   "cell_type": "markdown",
   "metadata": {},
   "source": [
    "The sentence index is used to rearrange the labels in the original sentence order"
   ]
  },
  {
   "cell_type": "code",
   "execution_count": 23,
   "metadata": {},
   "outputs": [],
   "source": [
    "index, labels = test(model, test_data, batch_size, token_size)\n",
    "order = np.argsort(index)\n",
    "labels = labels[order]"
   ]
  },
  {
   "cell_type": "code",
   "execution_count": 24,
   "metadata": {},
   "outputs": [
    {
     "name": "stdout",
     "output_type": "stream",
     "text": [
      "0,mwl\n",
      "1,nds-nl\n",
      "2,ava\n",
      "3,tcy\n",
      "4,bjn\n",
      "5,mon\n",
      "6,snd\n",
      "7,lez\n",
      "8,bul\n",
      "9,nan\n"
     ]
    }
   ],
   "source": [
    "with open('submission.csv', 'w') as f:\n",
    "    print('Id,Language', file=f)\n",
    "    for sentence_id, lang_id in enumerate(labels):\n",
    "        language = lang_vocab.idx2token[lang_id]\n",
    "        if sentence_id < 10:\n",
    "            print(f'{sentence_id},{language}')\n",
    "        print(f'{sentence_id},{language}', file=f)"
   ]
  }
 ],
 "metadata": {
  "kernelspec": {
   "display_name": "Python 3",
   "language": "python",
   "name": "python3"
  },
  "language_info": {
   "codemirror_mode": {
    "name": "ipython",
    "version": 3
   },
   "file_extension": ".py",
   "mimetype": "text/x-python",
   "name": "python",
   "nbconvert_exporter": "python",
   "pygments_lexer": "ipython3",
   "version": "3.6.6"
  }
 },
 "nbformat": 4,
 "nbformat_minor": 4
}
